{
 "cells": [
  {
   "cell_type": "markdown",
   "id": "412a39fa",
   "metadata": {},
   "source": [
    "- This notebook implements linear regression from scratch using NumPy, on a dataset with a single feature - TotalHours\n",
    "\n",
    "- We use the Zuu Crew dataset, focusing only on students who completed the *Foundations of ML* course."
   ]
  },
  {
   "cell_type": "code",
   "execution_count": 1,
   "id": "aace2b74",
   "metadata": {},
   "outputs": [],
   "source": [
    "import numpy as np\n",
    "import pandas as pd\n",
    "import matplotlib.pyplot as plt"
   ]
  },
  {
   "cell_type": "code",
   "execution_count": 2,
   "id": "05f53d02",
   "metadata": {},
   "outputs": [
    {
     "data": {
      "text/html": [
       "<div>\n",
       "<style scoped>\n",
       "    .dataframe tbody tr th:only-of-type {\n",
       "        vertical-align: middle;\n",
       "    }\n",
       "\n",
       "    .dataframe tbody tr th {\n",
       "        vertical-align: top;\n",
       "    }\n",
       "\n",
       "    .dataframe thead th {\n",
       "        text-align: right;\n",
       "    }\n",
       "</style>\n",
       "<table border=\"1\" class=\"dataframe\">\n",
       "  <thead>\n",
       "    <tr style=\"text-align: right;\">\n",
       "      <th></th>\n",
       "      <th>MemberName</th>\n",
       "      <th>EducationLevel</th>\n",
       "      <th>Attendance</th>\n",
       "      <th>TotalHours</th>\n",
       "      <th>AssignmentsCompleted</th>\n",
       "      <th>HackathonParticipation</th>\n",
       "      <th>GitHubScore</th>\n",
       "      <th>PeerReviewScore</th>\n",
       "      <th>CourseName</th>\n",
       "      <th>CapstoneScore</th>\n",
       "    </tr>\n",
       "  </thead>\n",
       "  <tbody>\n",
       "    <tr>\n",
       "      <th>0</th>\n",
       "      <td>Theekshana Rathnayake</td>\n",
       "      <td>3</td>\n",
       "      <td>79.9</td>\n",
       "      <td>43.7</td>\n",
       "      <td>2</td>\n",
       "      <td>0</td>\n",
       "      <td>62.8</td>\n",
       "      <td>5.0</td>\n",
       "      <td>Foundations of ML</td>\n",
       "      <td>45.3</td>\n",
       "    </tr>\n",
       "    <tr>\n",
       "      <th>1</th>\n",
       "      <td>Mayura Sandakalum Sellapperuma</td>\n",
       "      <td>2</td>\n",
       "      <td>76.8</td>\n",
       "      <td>95.6</td>\n",
       "      <td>6</td>\n",
       "      <td>0</td>\n",
       "      <td>87.4</td>\n",
       "      <td>2.7</td>\n",
       "      <td>Foundations of ML</td>\n",
       "      <td>78.8</td>\n",
       "    </tr>\n",
       "    <tr>\n",
       "      <th>2</th>\n",
       "      <td>Amila Narangoda</td>\n",
       "      <td>3</td>\n",
       "      <td>96.6</td>\n",
       "      <td>75.9</td>\n",
       "      <td>8</td>\n",
       "      <td>0</td>\n",
       "      <td>98.4</td>\n",
       "      <td>2.8</td>\n",
       "      <td>Foundations of ML</td>\n",
       "      <td>65.4</td>\n",
       "    </tr>\n",
       "    <tr>\n",
       "      <th>4</th>\n",
       "      <td>Tharusha Vihanga</td>\n",
       "      <td>2</td>\n",
       "      <td>83.2</td>\n",
       "      <td>24.0</td>\n",
       "      <td>6</td>\n",
       "      <td>0</td>\n",
       "      <td>41.8</td>\n",
       "      <td>4.2</td>\n",
       "      <td>Foundations of ML</td>\n",
       "      <td>40.1</td>\n",
       "    </tr>\n",
       "    <tr>\n",
       "      <th>7</th>\n",
       "      <td>Chamath Perera</td>\n",
       "      <td>3</td>\n",
       "      <td>86.5</td>\n",
       "      <td>88.0</td>\n",
       "      <td>5</td>\n",
       "      <td>0</td>\n",
       "      <td>23.9</td>\n",
       "      <td>1.3</td>\n",
       "      <td>Foundations of ML</td>\n",
       "      <td>68.2</td>\n",
       "    </tr>\n",
       "  </tbody>\n",
       "</table>\n",
       "</div>"
      ],
      "text/plain": [
       "                       MemberName  EducationLevel  Attendance  TotalHours  \\\n",
       "0           Theekshana Rathnayake               3        79.9        43.7   \n",
       "1  Mayura Sandakalum Sellapperuma               2        76.8        95.6   \n",
       "2                 Amila Narangoda               3        96.6        75.9   \n",
       "4                Tharusha Vihanga               2        83.2        24.0   \n",
       "7                  Chamath Perera               3        86.5        88.0   \n",
       "\n",
       "   AssignmentsCompleted  HackathonParticipation  GitHubScore  PeerReviewScore  \\\n",
       "0                     2                       0         62.8              5.0   \n",
       "1                     6                       0         87.4              2.7   \n",
       "2                     8                       0         98.4              2.8   \n",
       "4                     6                       0         41.8              4.2   \n",
       "7                     5                       0         23.9              1.3   \n",
       "\n",
       "          CourseName  CapstoneScore  \n",
       "0  Foundations of ML           45.3  \n",
       "1  Foundations of ML           78.8  \n",
       "2  Foundations of ML           65.4  \n",
       "4  Foundations of ML           40.1  \n",
       "7  Foundations of ML           68.2  "
      ]
     },
     "execution_count": 2,
     "metadata": {},
     "output_type": "execute_result"
    }
   ],
   "source": [
    "# Load and filter dataset\n",
    "df = pd.read_csv('zuu crew scores.csv')\n",
    "df = df[df['CourseName'] == 'Foundations of ML']\n",
    "df.head(5)"
   ]
  },
  {
   "cell_type": "code",
   "execution_count": 3,
   "id": "770581d7",
   "metadata": {},
   "outputs": [],
   "source": [
    "X = df['TotalHours'].values.reshape(-1, 1)\n",
    "y = df['CapstoneScore'].values"
   ]
  },
  {
   "cell_type": "code",
   "execution_count": 4,
   "id": "881d42ec",
   "metadata": {},
   "outputs": [
    {
     "data": {
      "image/png": "[encoded data removed]",
      "text/plain": [
       "<Figure size 1000x600 with 1 Axes>"
      ]
     },
     "metadata": {},
     "output_type": "display_data"
    }
   ],
   "source": [
    "plt.figure(figsize=(10,6))\n",
    "plt.scatter(X, y, alpha=0.7, color='blue', s=50)\n",
    "plt.xlabel('Total Hours')\n",
    "plt.ylabel('Capstone Score')\n",
    "plt.title('Total Hours vs Capstone Score')\n",
    "plt.show()"
   ]
  },
  {
   "cell_type": "markdown",
   "id": "da7d93e7",
   "metadata": {},
   "source": [
    "- Linear Regression\n",
    "\n",
    "    - m = number of samples\n",
    "    - yᵢ = actual lable\n",
    "    - ŷᵢ = predicted lable\n",
    "\n",
    "- Hypothesis: ŷ = β₀ + β₁x\n",
    "\n",
    "- Cost Function:   J = (1/2m) Σ(ŷᵢ - yᵢ)²\n",
    "\n",
    "- Gradients \n",
    "\n",
    "    - ∂J/∂β₀ = (1/m) Σ(ŷᵢ - yᵢ)\n",
    "    - ∂J/∂β₁ = (1/m) Σ(ŷᵢ - yᵢ)xᵢ\n",
    "\n",
    "- Update: β := β - α∇J"
   ]
  },
  {
   "cell_type": "code",
   "execution_count": 5,
   "id": "3b50311c",
   "metadata": {},
   "outputs": [],
   "source": [
    "def compute_cost(X, y, beta_0, beta_1):\n",
    "    m = len(y)\n",
    "    y_hat = beta_0 + beta_1 * X\n",
    "    cost = (1/(2*m)) * np.sum((y_hat - y) ** 2)\n",
    "    return cost\n",
    "\n",
    "def compute_gradients(X, y, beta_0, beta_1):\n",
    "    m = len(y)\n",
    "    y_hat = beta_0 + beta_1 * X\n",
    "    d_beta_0 = (1/m) * np.sum(y_hat - y)\n",
    "    d_beta_1 = (1/m) * np.sum((y_hat - y) * X)\n",
    "    return d_beta_0, d_beta_1\n",
    "\n",
    "def gradient_descent(X, y, learning_rate, num_iter=10000):\n",
    "    beta_0 = np.random.randn()\n",
    "    beta_1 = np.random.randn()\n",
    "    cost_history = []\n",
    "\n",
    "    for i in range(num_iter):\n",
    "        d_beta_0, d_beta_1 = compute_gradients(X, y, beta_0, beta_1)\n",
    "        beta_0 -= learning_rate * d_beta_0\n",
    "        beta_1 -= learning_rate * d_beta_1\n",
    "\n",
    "        cost = compute_cost(X, y, beta_0, beta_1)\n",
    "        cost_history.append(cost)\n",
    "\n",
    "        if i % 1000 == 0:\n",
    "            print(f\"Iteration {i}: Cost = {cost:.4f}\")\n",
    "\n",
    "    return beta_0, beta_1, cost_history"
   ]
  },
  {
   "cell_type": "code",
   "execution_count": 6,
   "id": "6c57fb09",
   "metadata": {},
   "outputs": [],
   "source": [
    "def predict(X, beta_0, beta_1):\n",
    "    return beta_0 + beta_1 * X\n",
    "    "
   ]
  },
  {
   "cell_type": "markdown",
   "id": "b41f9915",
   "metadata": {},
   "source": [
    "Learning Rate Analysis\n",
    "\n",
    "- α = 0.00001\n",
    "- α = 0.001\n",
    "- α = 0.1\n",
    "- α = 1.0\n"
   ]
  },
  {
   "cell_type": "code",
   "execution_count": 7,
   "id": "2c7f42b5",
   "metadata": {},
   "outputs": [
    {
     "name": "stdout",
     "output_type": "stream",
     "text": [
      "Training with α = 1e-05\n",
      "Iteration 0: Cost = 100318.7763\n",
      "Iteration 1000: Cost = inf\n",
      "Iteration 2000: Cost = nan\n"
     ]
    },
    {
     "name": "stderr",
     "output_type": "stream",
     "text": [
      "c:\\Users\\User\\anaconda3\\Lib\\site-packages\\numpy\\_core\\fromnumeric.py:86: RuntimeWarning: overflow encountered in reduce\n",
      "  return ufunc.reduce(obj, axis, dtype, out, **passkwargs)\n",
      "C:\\Users\\User\\AppData\\Local\\Temp\\ipykernel_37488\\1379631639.py:4: RuntimeWarning: overflow encountered in square\n",
      "  cost = (1/(2*m)) * np.sum((y_hat - y) ** 2)\n",
      "C:\\Users\\User\\AppData\\Local\\Temp\\ipykernel_37488\\1379631639.py:22: RuntimeWarning: invalid value encountered in scalar subtract\n",
      "  beta_1 -= learning_rate * d_beta_1\n"
     ]
    },
    {
     "name": "stdout",
     "output_type": "stream",
     "text": [
      "Iteration 3000: Cost = nan\n",
      "Iteration 4000: Cost = nan\n",
      "Iteration 5000: Cost = nan\n",
      "Iteration 6000: Cost = nan\n",
      "Iteration 7000: Cost = nan\n",
      "Iteration 8000: Cost = nan\n",
      "Iteration 9000: Cost = nan\n",
      "\n",
      "Training with α = 0.001\n",
      "Iteration 0: Cost = 12109846457.6636\n",
      "Iteration 1000: Cost = nan\n",
      "Iteration 2000: Cost = nan\n",
      "Iteration 3000: Cost = nan\n",
      "Iteration 4000: Cost = nan\n",
      "Iteration 5000: Cost = nan\n",
      "Iteration 6000: Cost = nan\n",
      "Iteration 7000: Cost = nan\n",
      "Iteration 8000: Cost = nan\n",
      "Iteration 9000: Cost = nan\n",
      "\n",
      "Training with α = 0.1\n",
      "Iteration 0: Cost = 265081714958616.3125\n",
      "Iteration 1000: Cost = nan\n",
      "Iteration 2000: Cost = nan\n",
      "Iteration 3000: Cost = nan\n",
      "Iteration 4000: Cost = nan\n",
      "Iteration 5000: Cost = nan\n",
      "Iteration 6000: Cost = nan\n",
      "Iteration 7000: Cost = nan\n",
      "Iteration 8000: Cost = nan\n",
      "Iteration 9000: Cost = nan\n",
      "\n",
      "Training with α = 1.0\n",
      "Iteration 0: Cost = 2803435019209282.0000\n",
      "Iteration 1000: Cost = nan\n"
     ]
    },
    {
     "name": "stderr",
     "output_type": "stream",
     "text": [
      "C:\\Users\\User\\AppData\\Local\\Temp\\ipykernel_37488\\1379631639.py:11: RuntimeWarning: overflow encountered in multiply\n",
      "  d_beta_1 = (1/m) * np.sum((y_hat - y) * X)\n",
      "C:\\Users\\User\\AppData\\Local\\Temp\\ipykernel_37488\\1379631639.py:21: RuntimeWarning: invalid value encountered in scalar subtract\n",
      "  beta_0 -= learning_rate * d_beta_0\n"
     ]
    },
    {
     "name": "stdout",
     "output_type": "stream",
     "text": [
      "Iteration 2000: Cost = nan\n",
      "Iteration 3000: Cost = nan\n",
      "Iteration 4000: Cost = nan\n",
      "Iteration 5000: Cost = nan\n",
      "Iteration 6000: Cost = nan\n",
      "Iteration 7000: Cost = nan\n",
      "Iteration 8000: Cost = nan\n",
      "Iteration 9000: Cost = nan\n",
      "\n"
     ]
    }
   ],
   "source": [
    "alphas = [0.00001, 0.001, 0.1, 1.0]\n",
    "results = {}\n",
    "\n",
    "for alpha in alphas:\n",
    "    print(f\"Training with α = {alpha}\")\n",
    "    b0, b1, costs = gradient_descent(X, y, learning_rate=alpha)\n",
    "    results[alpha] = {\n",
    "        \"beta_0\": b0,\n",
    "        \"beta_1\": b1,\n",
    "        \"cost_history\": costs\n",
    "    }\n",
    "    print()"
   ]
  },
  {
   "cell_type": "markdown",
   "id": "9ba52190",
   "metadata": {},
   "source": [
    "Convergence Plot"
   ]
  },
  {
   "cell_type": "code",
   "execution_count": 8,
   "id": "bbb0845f",
   "metadata": {},
   "outputs": [
    {
     "data": {
      "image/png": "[encoded data removed]",
      "text/plain": [
       "<Figure size 640x480 with 1 Axes>"
      ]
     },
     "metadata": {},
     "output_type": "display_data"
    }
   ],
   "source": [
    "for alpha in alphas:\n",
    "    plt.plot(np.arange(len(results[alpha]['cost_history'])) * 10, results[alpha]['cost_history'], label=f\"α={alpha}\")\n",
    "\n",
    "plt.title(\"Convergence of Gradient Descent\")\n",
    "plt.xlabel(\"Iteration\")\n",
    "plt.ylabel(\"Cost\")\n",
    "plt.legend()\n",
    "plt.grid(True)\n",
    "plt.show()"
   ]
  },
  {
   "cell_type": "markdown",
   "id": "5515d859",
   "metadata": {},
   "source": [
    "Regression Evaluation Metrics"
   ]
  },
  {
   "cell_type": "code",
   "execution_count": 9,
   "id": "82c8a8cf",
   "metadata": {},
   "outputs": [],
   "source": [
    "def mse(y_true, y_pred):\n",
    "    return np.mean((y_true - y_pred) ** 2)\n",
    "\n",
    "def mae(y_true, y_pred):\n",
    "    return np.mean(np.abs(y_true - y_pred))\n",
    "\n",
    "def rmse(y_true, y_pred):\n",
    "    return np.sqrt(mse(y_true, y_pred))\n",
    "\n",
    "def r2(y_true, y_pred):\n",
    "    ss_res = np.sum((y_true - y_pred) ** 2)\n",
    "    ss_tot = np.sum((y_true - np.mean(y_true)) ** 2)\n",
    "    return 1 - ss_res / ss_tot\n"
   ]
  },
  {
   "cell_type": "markdown",
   "id": "436fb56b",
   "metadata": {},
   "source": [
    "Model Evaluation"
   ]
  },
  {
   "cell_type": "code",
   "execution_count": 10,
   "id": "7626c817",
   "metadata": {},
   "outputs": [
    {
     "name": "stdout",
     "output_type": "stream",
     "text": [
      "α = 1e-05\n",
      "  MSE  = nan\n",
      "  MAE  = nan\n",
      "  RMSE = nan\n",
      "  R²   = nan\n",
      "\n",
      "α = 0.001\n",
      "  MSE  = nan\n",
      "  MAE  = nan\n",
      "  RMSE = nan\n",
      "  R²   = nan\n",
      "\n",
      "α = 0.1\n",
      "  MSE  = nan\n",
      "  MAE  = nan\n",
      "  RMSE = nan\n",
      "  R²   = nan\n",
      "\n",
      "α = 1.0\n",
      "  MSE  = nan\n",
      "  MAE  = nan\n",
      "  RMSE = nan\n",
      "  R²   = nan\n",
      "\n"
     ]
    }
   ],
   "source": [
    "for alpha in alphas:\n",
    "    b0 = results[alpha][\"beta_0\"]\n",
    "    b1 = results[alpha][\"beta_1\"]\n",
    "    y_pred = predict(X, b0, b1)\n",
    "    print(f\"α = {alpha}\")\n",
    "    print(f\"  MSE  = {mse(y, y_pred):.4f}\")\n",
    "    print(f\"  MAE  = {mae(y, y_pred):.4f}\")\n",
    "    print(f\"  RMSE = {rmse(y, y_pred):.4f}\")\n",
    "    print(f\"  R²   = {r2(y, y_pred):.4f}\")\n",
    "    print()\n"
   ]
  }
 ],
 "metadata": {
  "kernelspec": {
   "display_name": "base",
   "language": "python",
   "name": "python3"
  },
  "language_info": {
   "codemirror_mode": {
    "name": "ipython",
    "version": 3
   },
   "file_extension": ".py",
   "mimetype": "text/x-python",
   "name": "python",
   "nbconvert_exporter": "python",
   "pygments_lexer": "ipython3",
   "version": "3.13.5"
  }
 },
 "nbformat": 4,
 "nbformat_minor": 5
}
